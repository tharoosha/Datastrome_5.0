{
 "cells": [
  {
   "cell_type": "code",
   "execution_count": 119,
   "metadata": {},
   "outputs": [
    {
     "name": "stderr",
     "output_type": "stream",
     "text": [
      "/var/folders/p1/z8dhpprj11b1w1rsyp3fh4zr0000gn/T/ipykernel_18363/3294755354.py:4: DtypeWarning: Columns (1,2) have mixed types. Specify dtype option on import or set low_memory=False.\n",
      "  customer_data = pd.read_csv('customer_dataset.csv')\n"
     ]
    }
   ],
   "source": [
    "import pandas as pd\n",
    "\n",
    "# Load the dataset\n",
    "customer_data = pd.read_csv('customer_dataset.csv')"
   ]
  },
  {
   "cell_type": "code",
   "execution_count": 120,
   "metadata": {},
   "outputs": [
    {
     "data": {
      "text/html": [
       "<div>\n",
       "<style scoped>\n",
       "    .dataframe tbody tr th:only-of-type {\n",
       "        vertical-align: middle;\n",
       "    }\n",
       "\n",
       "    .dataframe tbody tr th {\n",
       "        vertical-align: top;\n",
       "    }\n",
       "\n",
       "    .dataframe thead th {\n",
       "        text-align: right;\n",
       "    }\n",
       "</style>\n",
       "<table border=\"1\" class=\"dataframe\">\n",
       "  <thead>\n",
       "    <tr style=\"text-align: right;\">\n",
       "      <th></th>\n",
       "      <th>customer_id</th>\n",
       "      <th>average_monthly_spend</th>\n",
       "      <th>average_monthly_visit_frequency</th>\n",
       "      <th>average_monthly_basket_size</th>\n",
       "    </tr>\n",
       "  </thead>\n",
       "  <tbody>\n",
       "    <tr>\n",
       "      <th>0</th>\n",
       "      <td>1</td>\n",
       "      <td>790</td>\n",
       "      <td>1.11</td>\n",
       "      <td>2.84</td>\n",
       "    </tr>\n",
       "    <tr>\n",
       "      <th>1</th>\n",
       "      <td>2</td>\n",
       "      <td>176875</td>\n",
       "      <td>15.74</td>\n",
       "      <td>33.83</td>\n",
       "    </tr>\n",
       "    <tr>\n",
       "      <th>2</th>\n",
       "      <td>3</td>\n",
       "      <td>6812</td>\n",
       "      <td>2.11</td>\n",
       "      <td>NaN</td>\n",
       "    </tr>\n",
       "    <tr>\n",
       "      <th>3</th>\n",
       "      <td>4</td>\n",
       "      <td>38542</td>\n",
       "      <td>7.82</td>\n",
       "      <td>10.73</td>\n",
       "    </tr>\n",
       "    <tr>\n",
       "      <th>4</th>\n",
       "      <td>5</td>\n",
       "      <td>48712</td>\n",
       "      <td>7.51</td>\n",
       "      <td>10.04</td>\n",
       "    </tr>\n",
       "  </tbody>\n",
       "</table>\n",
       "</div>"
      ],
      "text/plain": [
       "   customer_id average_monthly_spend average_monthly_visit_frequency  \\\n",
       "0            1                   790                            1.11   \n",
       "1            2                176875                           15.74   \n",
       "2            3                  6812                            2.11   \n",
       "3            4                 38542                            7.82   \n",
       "4            5                 48712                            7.51   \n",
       "\n",
       "   average_monthly_basket_size  \n",
       "0                         2.84  \n",
       "1                        33.83  \n",
       "2                          NaN  \n",
       "3                        10.73  \n",
       "4                        10.04  "
      ]
     },
     "execution_count": 120,
     "metadata": {},
     "output_type": "execute_result"
    }
   ],
   "source": [
    "customer_data.head(5)"
   ]
  },
  {
   "cell_type": "code",
   "execution_count": 121,
   "metadata": {},
   "outputs": [
    {
     "data": {
      "text/plain": [
       "customer_id                        570000\n",
       "average_monthly_spend              560614\n",
       "average_monthly_visit_frequency    560672\n",
       "average_monthly_basket_size        560714\n",
       "dtype: int64"
      ]
     },
     "execution_count": 121,
     "metadata": {},
     "output_type": "execute_result"
    }
   ],
   "source": [
    "customer_data.count()"
   ]
  },
  {
   "cell_type": "code",
   "execution_count": 122,
   "metadata": {},
   "outputs": [
    {
     "name": "stdout",
     "output_type": "stream",
     "text": [
      "Missing Values:\n",
      " customer_id                           0\n",
      "average_monthly_spend              9386\n",
      "average_monthly_visit_frequency    9328\n",
      "average_monthly_basket_size        9286\n",
      "dtype: int64\n"
     ]
    }
   ],
   "source": [
    "# Check for missing values\n",
    "missing_values = customer_data.isnull().sum()\n",
    "print(\"Missing Values:\\n\", missing_values)\n",
    "\n"
   ]
  },
  {
   "cell_type": "code",
   "execution_count": 123,
   "metadata": {},
   "outputs": [],
   "source": [
    "# Drop rows with missing values\n",
    "customer_data.dropna(inplace=True)"
   ]
  },
  {
   "cell_type": "code",
   "execution_count": 124,
   "metadata": {},
   "outputs": [
    {
     "name": "stdout",
     "output_type": "stream",
     "text": [
      "Missing Values:\n",
      " customer_id                        0\n",
      "average_monthly_spend              0\n",
      "average_monthly_visit_frequency    0\n",
      "average_monthly_basket_size        0\n",
      "dtype: int64\n"
     ]
    }
   ],
   "source": [
    "# Check for missing values\n",
    "missing_values = customer_data.isnull().sum()\n",
    "print(\"Missing Values:\\n\", missing_values)"
   ]
  },
  {
   "cell_type": "code",
   "execution_count": 125,
   "metadata": {},
   "outputs": [
    {
     "data": {
      "text/plain": [
       "customer_id                        542000\n",
       "average_monthly_spend              542000\n",
       "average_monthly_visit_frequency    542000\n",
       "average_monthly_basket_size        542000\n",
       "dtype: int64"
      ]
     },
     "execution_count": 125,
     "metadata": {},
     "output_type": "execute_result"
    }
   ],
   "source": [
    "customer_data.count()"
   ]
  },
  {
   "cell_type": "code",
   "execution_count": 126,
   "metadata": {},
   "outputs": [
    {
     "name": "stdout",
     "output_type": "stream",
     "text": [
      "Duplicate Rows: 3053\n"
     ]
    }
   ],
   "source": [
    "# Check for duplicates\n",
    "duplicate_rows = customer_data.duplicated().sum()\n",
    "print(\"Duplicate Rows:\", duplicate_rows)\n"
   ]
  },
  {
   "cell_type": "code",
   "execution_count": 127,
   "metadata": {},
   "outputs": [],
   "source": [
    "# Remove duplicates\n",
    "customer_data.drop_duplicates(inplace=True)"
   ]
  },
  {
   "cell_type": "code",
   "execution_count": 128,
   "metadata": {},
   "outputs": [
    {
     "data": {
      "text/plain": [
       "customer_id                        538947\n",
       "average_monthly_spend              538947\n",
       "average_monthly_visit_frequency    538947\n",
       "average_monthly_basket_size        538947\n",
       "dtype: int64"
      ]
     },
     "execution_count": 128,
     "metadata": {},
     "output_type": "execute_result"
    }
   ],
   "source": [
    "customer_data.count()"
   ]
  },
  {
   "cell_type": "code",
   "execution_count": 129,
   "metadata": {},
   "outputs": [],
   "source": [
    "# Check for outliers and handle them if necessary\n",
    "# (e.g., using z-score or IQR method)"
   ]
  },
  {
   "cell_type": "code",
   "execution_count": 130,
   "metadata": {},
   "outputs": [
    {
     "name": "stdout",
     "output_type": "stream",
     "text": [
      "{'customer_id': False, 'average_monthly_spend': True, 'average_monthly_visit_frequency': True, 'average_monthly_basket_size': False}\n"
     ]
    }
   ],
   "source": [
    "# Check if a specific column contains multiple data types\n",
    "def check_mixed_types(series):\n",
    "    types = series.map(type).unique()  # Maps the type function to all elements and gets unique types\n",
    "    return len(types) > 1  # Returns True if more than one type is found\n",
    "\n",
    "# Apply this check to each column in the DataFrame\n",
    "mixed_type_columns = {col: check_mixed_types(customer_data[col]) for col in customer_data.columns}\n",
    "print(mixed_type_columns)\n"
   ]
  },
  {
   "cell_type": "code",
   "execution_count": 131,
   "metadata": {},
   "outputs": [
    {
     "name": "stdout",
     "output_type": "stream",
     "text": [
      "average_monthly_spend\n",
      "float    414388\n",
      "str      124559\n",
      "Name: count, dtype: int64\n"
     ]
    }
   ],
   "source": [
    "# Function to count types in a column\n",
    "def type_counts(series):\n",
    "    return series.apply(lambda x: type(x).__name__).value_counts()\n",
    "\n",
    "# Apply this function to each column you want to analyze\n",
    "type_breakdown = type_counts(customer_data['average_monthly_spend'])\n",
    "print(type_breakdown)\n"
   ]
  },
  {
   "cell_type": "code",
   "execution_count": 132,
   "metadata": {},
   "outputs": [
    {
     "name": "stdout",
     "output_type": "stream",
     "text": [
      "Number of string entries in 'average_monthly_spend': 124559\n"
     ]
    }
   ],
   "source": [
    "import pandas as pd\n",
    "\n",
    "# Assuming customer_data is already loaded\n",
    "# Create a mask where the type of the cell content is str\n",
    "mask = customer_data['average_monthly_spend'].apply(lambda x: isinstance(x, str))\n",
    "\n",
    "# Print the number of string entries found (for verification)\n",
    "print(\"Number of string entries in 'average_monthly_spend':\", mask.sum())"
   ]
  },
  {
   "cell_type": "code",
   "execution_count": 133,
   "metadata": {},
   "outputs": [],
   "source": [
    "customer_data_str = customer_data[mask]"
   ]
  },
  {
   "cell_type": "code",
   "execution_count": 134,
   "metadata": {},
   "outputs": [
    {
     "data": {
      "text/html": [
       "<div>\n",
       "<style scoped>\n",
       "    .dataframe tbody tr th:only-of-type {\n",
       "        vertical-align: middle;\n",
       "    }\n",
       "\n",
       "    .dataframe tbody tr th {\n",
       "        vertical-align: top;\n",
       "    }\n",
       "\n",
       "    .dataframe thead th {\n",
       "        text-align: right;\n",
       "    }\n",
       "</style>\n",
       "<table border=\"1\" class=\"dataframe\">\n",
       "  <thead>\n",
       "    <tr style=\"text-align: right;\">\n",
       "      <th></th>\n",
       "      <th>customer_id</th>\n",
       "      <th>average_monthly_spend</th>\n",
       "      <th>average_monthly_visit_frequency</th>\n",
       "      <th>average_monthly_basket_size</th>\n",
       "    </tr>\n",
       "  </thead>\n",
       "  <tbody>\n",
       "    <tr>\n",
       "      <th>0</th>\n",
       "      <td>1</td>\n",
       "      <td>790</td>\n",
       "      <td>1.11</td>\n",
       "      <td>2.84</td>\n",
       "    </tr>\n",
       "    <tr>\n",
       "      <th>1</th>\n",
       "      <td>2</td>\n",
       "      <td>176875</td>\n",
       "      <td>15.74</td>\n",
       "      <td>33.83</td>\n",
       "    </tr>\n",
       "    <tr>\n",
       "      <th>3</th>\n",
       "      <td>4</td>\n",
       "      <td>38542</td>\n",
       "      <td>7.82</td>\n",
       "      <td>10.73</td>\n",
       "    </tr>\n",
       "    <tr>\n",
       "      <th>4</th>\n",
       "      <td>5</td>\n",
       "      <td>48712</td>\n",
       "      <td>7.51</td>\n",
       "      <td>10.04</td>\n",
       "    </tr>\n",
       "    <tr>\n",
       "      <th>5</th>\n",
       "      <td>6</td>\n",
       "      <td>172333</td>\n",
       "      <td>14.16</td>\n",
       "      <td>35.06</td>\n",
       "    </tr>\n",
       "    <tr>\n",
       "      <th>...</th>\n",
       "      <td>...</td>\n",
       "      <td>...</td>\n",
       "      <td>...</td>\n",
       "      <td>...</td>\n",
       "    </tr>\n",
       "    <tr>\n",
       "      <th>131067</th>\n",
       "      <td>131068</td>\n",
       "      <td>31059</td>\n",
       "      <td>4.28</td>\n",
       "      <td>9.07</td>\n",
       "    </tr>\n",
       "    <tr>\n",
       "      <th>131068</th>\n",
       "      <td>131069</td>\n",
       "      <td>20515</td>\n",
       "      <td>5.56</td>\n",
       "      <td>9.96</td>\n",
       "    </tr>\n",
       "    <tr>\n",
       "      <th>131069</th>\n",
       "      <td>131070</td>\n",
       "      <td>32446</td>\n",
       "      <td>7.11</td>\n",
       "      <td>10.58</td>\n",
       "    </tr>\n",
       "    <tr>\n",
       "      <th>131070</th>\n",
       "      <td>131071</td>\n",
       "      <td>167134</td>\n",
       "      <td>15.33</td>\n",
       "      <td>31.16</td>\n",
       "    </tr>\n",
       "    <tr>\n",
       "      <th>131071</th>\n",
       "      <td>131072</td>\n",
       "      <td>151630</td>\n",
       "      <td>14.38</td>\n",
       "      <td>27.54</td>\n",
       "    </tr>\n",
       "  </tbody>\n",
       "</table>\n",
       "<p>124559 rows × 4 columns</p>\n",
       "</div>"
      ],
      "text/plain": [
       "        customer_id average_monthly_spend average_monthly_visit_frequency  \\\n",
       "0                 1                   790                            1.11   \n",
       "1                 2                176875                           15.74   \n",
       "3                 4                 38542                            7.82   \n",
       "4                 5                 48712                            7.51   \n",
       "5                 6                172333                           14.16   \n",
       "...             ...                   ...                             ...   \n",
       "131067       131068                 31059                            4.28   \n",
       "131068       131069                 20515                            5.56   \n",
       "131069       131070                 32446                            7.11   \n",
       "131070       131071                167134                           15.33   \n",
       "131071       131072                151630                           14.38   \n",
       "\n",
       "        average_monthly_basket_size  \n",
       "0                              2.84  \n",
       "1                             33.83  \n",
       "3                             10.73  \n",
       "4                             10.04  \n",
       "5                             35.06  \n",
       "...                             ...  \n",
       "131067                         9.07  \n",
       "131068                         9.96  \n",
       "131069                        10.58  \n",
       "131070                        31.16  \n",
       "131071                        27.54  \n",
       "\n",
       "[124559 rows x 4 columns]"
      ]
     },
     "execution_count": 134,
     "metadata": {},
     "output_type": "execute_result"
    }
   ],
   "source": [
    "customer_data_str"
   ]
  },
  {
   "cell_type": "code",
   "execution_count": 135,
   "metadata": {},
   "outputs": [
    {
     "data": {
      "text/plain": [
       "'790'"
      ]
     },
     "execution_count": 135,
     "metadata": {},
     "output_type": "execute_result"
    }
   ],
   "source": [
    "customer_data_str['average_monthly_spend'][0]"
   ]
  },
  {
   "cell_type": "code",
   "execution_count": 136,
   "metadata": {},
   "outputs": [],
   "source": [
    "customer_data_int = customer_data[~mask]"
   ]
  },
  {
   "cell_type": "code",
   "execution_count": 137,
   "metadata": {},
   "outputs": [
    {
     "data": {
      "text/html": [
       "<div>\n",
       "<style scoped>\n",
       "    .dataframe tbody tr th:only-of-type {\n",
       "        vertical-align: middle;\n",
       "    }\n",
       "\n",
       "    .dataframe tbody tr th {\n",
       "        vertical-align: top;\n",
       "    }\n",
       "\n",
       "    .dataframe thead th {\n",
       "        text-align: right;\n",
       "    }\n",
       "</style>\n",
       "<table border=\"1\" class=\"dataframe\">\n",
       "  <thead>\n",
       "    <tr style=\"text-align: right;\">\n",
       "      <th></th>\n",
       "      <th>customer_id</th>\n",
       "      <th>average_monthly_spend</th>\n",
       "      <th>average_monthly_visit_frequency</th>\n",
       "      <th>average_monthly_basket_size</th>\n",
       "    </tr>\n",
       "  </thead>\n",
       "  <tbody>\n",
       "    <tr>\n",
       "      <th>131072</th>\n",
       "      <td>131073</td>\n",
       "      <td>80154.0</td>\n",
       "      <td>11.87</td>\n",
       "      <td>38.73</td>\n",
       "    </tr>\n",
       "    <tr>\n",
       "      <th>131073</th>\n",
       "      <td>131074</td>\n",
       "      <td>26665.0</td>\n",
       "      <td>7.2</td>\n",
       "      <td>9.03</td>\n",
       "    </tr>\n",
       "    <tr>\n",
       "      <th>131074</th>\n",
       "      <td>131075</td>\n",
       "      <td>103594.0</td>\n",
       "      <td>19.76</td>\n",
       "      <td>16.72</td>\n",
       "    </tr>\n",
       "    <tr>\n",
       "      <th>131075</th>\n",
       "      <td>131076</td>\n",
       "      <td>38838.0</td>\n",
       "      <td>6.29</td>\n",
       "      <td>9.65</td>\n",
       "    </tr>\n",
       "    <tr>\n",
       "      <th>131076</th>\n",
       "      <td>131077</td>\n",
       "      <td>721.0</td>\n",
       "      <td>2.06</td>\n",
       "      <td>1.80</td>\n",
       "    </tr>\n",
       "    <tr>\n",
       "      <th>...</th>\n",
       "      <td>...</td>\n",
       "      <td>...</td>\n",
       "      <td>...</td>\n",
       "      <td>...</td>\n",
       "    </tr>\n",
       "    <tr>\n",
       "      <th>569991</th>\n",
       "      <td>234632</td>\n",
       "      <td>89150.0</td>\n",
       "      <td>10.87</td>\n",
       "      <td>38.31</td>\n",
       "    </tr>\n",
       "    <tr>\n",
       "      <th>569996</th>\n",
       "      <td>215276</td>\n",
       "      <td>141241.0</td>\n",
       "      <td>15.47</td>\n",
       "      <td>31.13</td>\n",
       "    </tr>\n",
       "    <tr>\n",
       "      <th>569997</th>\n",
       "      <td>11515</td>\n",
       "      <td>9183.0</td>\n",
       "      <td>2.09</td>\n",
       "      <td>4.61</td>\n",
       "    </tr>\n",
       "    <tr>\n",
       "      <th>569998</th>\n",
       "      <td>205260</td>\n",
       "      <td>35541.0</td>\n",
       "      <td>4.22</td>\n",
       "      <td>9.65</td>\n",
       "    </tr>\n",
       "    <tr>\n",
       "      <th>569999</th>\n",
       "      <td>244801</td>\n",
       "      <td>4225.0</td>\n",
       "      <td>three point four</td>\n",
       "      <td>1.92</td>\n",
       "    </tr>\n",
       "  </tbody>\n",
       "</table>\n",
       "<p>414388 rows × 4 columns</p>\n",
       "</div>"
      ],
      "text/plain": [
       "        customer_id average_monthly_spend average_monthly_visit_frequency  \\\n",
       "131072       131073               80154.0                           11.87   \n",
       "131073       131074               26665.0                             7.2   \n",
       "131074       131075              103594.0                           19.76   \n",
       "131075       131076               38838.0                            6.29   \n",
       "131076       131077                 721.0                            2.06   \n",
       "...             ...                   ...                             ...   \n",
       "569991       234632               89150.0                           10.87   \n",
       "569996       215276              141241.0                           15.47   \n",
       "569997        11515                9183.0                            2.09   \n",
       "569998       205260               35541.0                            4.22   \n",
       "569999       244801                4225.0                three point four   \n",
       "\n",
       "        average_monthly_basket_size  \n",
       "131072                        38.73  \n",
       "131073                         9.03  \n",
       "131074                        16.72  \n",
       "131075                         9.65  \n",
       "131076                         1.80  \n",
       "...                             ...  \n",
       "569991                        38.31  \n",
       "569996                        31.13  \n",
       "569997                         4.61  \n",
       "569998                         9.65  \n",
       "569999                         1.92  \n",
       "\n",
       "[414388 rows x 4 columns]"
      ]
     },
     "execution_count": 137,
     "metadata": {},
     "output_type": "execute_result"
    }
   ],
   "source": [
    "customer_data_int"
   ]
  },
  {
   "cell_type": "code",
   "execution_count": 138,
   "metadata": {},
   "outputs": [
    {
     "name": "stdout",
     "output_type": "stream",
     "text": [
      "Data types after cleanup:\n",
      " average_monthly_spend\n",
      "<class 'float'>    414388\n",
      "Name: count, dtype: int64\n"
     ]
    }
   ],
   "source": [
    "# Drop rows where 'average_monthly_visit_frequency' contains strings\n",
    "customer_data = customer_data[~mask]\n",
    "\n",
    "# Verify the remaining data types in the column\n",
    "print(\"Data types after cleanup:\\n\", customer_data['average_monthly_spend'].apply(type).value_counts())"
   ]
  },
  {
   "cell_type": "code",
   "execution_count": 139,
   "metadata": {},
   "outputs": [
    {
     "name": "stdout",
     "output_type": "stream",
     "text": [
      "average_monthly_visit_frequency\n",
      "float    249024\n",
      "str      165364\n",
      "Name: count, dtype: int64\n"
     ]
    }
   ],
   "source": [
    "# Function to count types in a column\n",
    "def type_counts(series):\n",
    "    return series.apply(lambda x: type(x).__name__).value_counts()\n",
    "\n",
    "# Apply this function to each column you want to analyze\n",
    "type_breakdown = type_counts(customer_data['average_monthly_visit_frequency'])\n",
    "print(type_breakdown)"
   ]
  },
  {
   "cell_type": "code",
   "execution_count": 140,
   "metadata": {},
   "outputs": [
    {
     "name": "stdout",
     "output_type": "stream",
     "text": [
      "Number of string entries in 'average_monthly_visit_frequency': 165364\n"
     ]
    }
   ],
   "source": [
    "import pandas as pd\n",
    "\n",
    "# Assuming customer_data is already loaded\n",
    "# Create a mask where the type of the cell content is str\n",
    "mask = customer_data['average_monthly_visit_frequency'].apply(lambda x: isinstance(x, str))\n",
    "\n",
    "# Print the number of string entries found (for verification)\n",
    "print(\"Number of string entries in 'average_monthly_visit_frequency':\", mask.sum())"
   ]
  },
  {
   "cell_type": "code",
   "execution_count": 141,
   "metadata": {},
   "outputs": [
    {
     "name": "stdout",
     "output_type": "stream",
     "text": [
      "Data types after cleanup:\n",
      " average_monthly_visit_frequency\n",
      "<class 'float'>    249024\n",
      "Name: count, dtype: int64\n"
     ]
    }
   ],
   "source": [
    "# Drop rows where 'average_monthly_visit_frequency' contains strings\n",
    "customer_data = customer_data[~mask]\n",
    "\n",
    "# Verify the remaining data types in the column\n",
    "print(\"Data types after cleanup:\\n\", customer_data['average_monthly_visit_frequency'].apply(type).value_counts())"
   ]
  },
  {
   "cell_type": "code",
   "execution_count": 142,
   "metadata": {},
   "outputs": [
    {
     "data": {
      "text/html": [
       "<div>\n",
       "<style scoped>\n",
       "    .dataframe tbody tr th:only-of-type {\n",
       "        vertical-align: middle;\n",
       "    }\n",
       "\n",
       "    .dataframe tbody tr th {\n",
       "        vertical-align: top;\n",
       "    }\n",
       "\n",
       "    .dataframe thead th {\n",
       "        text-align: right;\n",
       "    }\n",
       "</style>\n",
       "<table border=\"1\" class=\"dataframe\">\n",
       "  <thead>\n",
       "    <tr style=\"text-align: right;\">\n",
       "      <th></th>\n",
       "      <th>customer_id</th>\n",
       "      <th>average_monthly_spend</th>\n",
       "      <th>average_monthly_visit_frequency</th>\n",
       "      <th>average_monthly_basket_size</th>\n",
       "    </tr>\n",
       "  </thead>\n",
       "  <tbody>\n",
       "    <tr>\n",
       "      <th>131072</th>\n",
       "      <td>131073</td>\n",
       "      <td>80154.0</td>\n",
       "      <td>11.87</td>\n",
       "      <td>38.73</td>\n",
       "    </tr>\n",
       "    <tr>\n",
       "      <th>131073</th>\n",
       "      <td>131074</td>\n",
       "      <td>26665.0</td>\n",
       "      <td>7.2</td>\n",
       "      <td>9.03</td>\n",
       "    </tr>\n",
       "    <tr>\n",
       "      <th>131074</th>\n",
       "      <td>131075</td>\n",
       "      <td>103594.0</td>\n",
       "      <td>19.76</td>\n",
       "      <td>16.72</td>\n",
       "    </tr>\n",
       "    <tr>\n",
       "      <th>131075</th>\n",
       "      <td>131076</td>\n",
       "      <td>38838.0</td>\n",
       "      <td>6.29</td>\n",
       "      <td>9.65</td>\n",
       "    </tr>\n",
       "    <tr>\n",
       "      <th>131076</th>\n",
       "      <td>131077</td>\n",
       "      <td>721.0</td>\n",
       "      <td>2.06</td>\n",
       "      <td>1.80</td>\n",
       "    </tr>\n",
       "    <tr>\n",
       "      <th>...</th>\n",
       "      <td>...</td>\n",
       "      <td>...</td>\n",
       "      <td>...</td>\n",
       "      <td>...</td>\n",
       "    </tr>\n",
       "    <tr>\n",
       "      <th>524283</th>\n",
       "      <td>524284</td>\n",
       "      <td>7354.0</td>\n",
       "      <td>1.51</td>\n",
       "      <td>3.40</td>\n",
       "    </tr>\n",
       "    <tr>\n",
       "      <th>524284</th>\n",
       "      <td>524285</td>\n",
       "      <td>33749.0</td>\n",
       "      <td>5.38</td>\n",
       "      <td>9.34</td>\n",
       "    </tr>\n",
       "    <tr>\n",
       "      <th>524285</th>\n",
       "      <td>524286</td>\n",
       "      <td>162412.0</td>\n",
       "      <td>14.47</td>\n",
       "      <td>27.27</td>\n",
       "    </tr>\n",
       "    <tr>\n",
       "      <th>524286</th>\n",
       "      <td>524287</td>\n",
       "      <td>103826.0</td>\n",
       "      <td>9.59</td>\n",
       "      <td>37.13</td>\n",
       "    </tr>\n",
       "    <tr>\n",
       "      <th>524287</th>\n",
       "      <td>524288</td>\n",
       "      <td>7910.0</td>\n",
       "      <td>1.52</td>\n",
       "      <td>4.02</td>\n",
       "    </tr>\n",
       "  </tbody>\n",
       "</table>\n",
       "<p>249024 rows × 4 columns</p>\n",
       "</div>"
      ],
      "text/plain": [
       "        customer_id average_monthly_spend average_monthly_visit_frequency  \\\n",
       "131072       131073               80154.0                           11.87   \n",
       "131073       131074               26665.0                             7.2   \n",
       "131074       131075              103594.0                           19.76   \n",
       "131075       131076               38838.0                            6.29   \n",
       "131076       131077                 721.0                            2.06   \n",
       "...             ...                   ...                             ...   \n",
       "524283       524284                7354.0                            1.51   \n",
       "524284       524285               33749.0                            5.38   \n",
       "524285       524286              162412.0                           14.47   \n",
       "524286       524287              103826.0                            9.59   \n",
       "524287       524288                7910.0                            1.52   \n",
       "\n",
       "        average_monthly_basket_size  \n",
       "131072                        38.73  \n",
       "131073                         9.03  \n",
       "131074                        16.72  \n",
       "131075                         9.65  \n",
       "131076                         1.80  \n",
       "...                             ...  \n",
       "524283                         3.40  \n",
       "524284                         9.34  \n",
       "524285                        27.27  \n",
       "524286                        37.13  \n",
       "524287                         4.02  \n",
       "\n",
       "[249024 rows x 4 columns]"
      ]
     },
     "execution_count": 142,
     "metadata": {},
     "output_type": "execute_result"
    }
   ],
   "source": [
    "customer_data"
   ]
  },
  {
   "cell_type": "code",
   "execution_count": 143,
   "metadata": {},
   "outputs": [
    {
     "data": {
      "text/html": [
       "<div>\n",
       "<style scoped>\n",
       "    .dataframe tbody tr th:only-of-type {\n",
       "        vertical-align: middle;\n",
       "    }\n",
       "\n",
       "    .dataframe tbody tr th {\n",
       "        vertical-align: top;\n",
       "    }\n",
       "\n",
       "    .dataframe thead th {\n",
       "        text-align: right;\n",
       "    }\n",
       "</style>\n",
       "<table border=\"1\" class=\"dataframe\">\n",
       "  <thead>\n",
       "    <tr style=\"text-align: right;\">\n",
       "      <th></th>\n",
       "      <th>customer_id</th>\n",
       "      <th>average_monthly_basket_size</th>\n",
       "    </tr>\n",
       "  </thead>\n",
       "  <tbody>\n",
       "    <tr>\n",
       "      <th>count</th>\n",
       "      <td>249024.000000</td>\n",
       "      <td>249024.000000</td>\n",
       "    </tr>\n",
       "    <tr>\n",
       "      <th>mean</th>\n",
       "      <td>327807.517231</td>\n",
       "      <td>13.276089</td>\n",
       "    </tr>\n",
       "    <tr>\n",
       "      <th>std</th>\n",
       "      <td>136434.276371</td>\n",
       "      <td>12.007761</td>\n",
       "    </tr>\n",
       "    <tr>\n",
       "      <th>min</th>\n",
       "      <td>131073.000000</td>\n",
       "      <td>0.000000</td>\n",
       "    </tr>\n",
       "    <tr>\n",
       "      <th>25%</th>\n",
       "      <td>196671.750000</td>\n",
       "      <td>3.790000</td>\n",
       "    </tr>\n",
       "    <tr>\n",
       "      <th>50%</th>\n",
       "      <td>393337.500000</td>\n",
       "      <td>9.790000</td>\n",
       "    </tr>\n",
       "    <tr>\n",
       "      <th>75%</th>\n",
       "      <td>458840.250000</td>\n",
       "      <td>17.500000</td>\n",
       "    </tr>\n",
       "    <tr>\n",
       "      <th>max</th>\n",
       "      <td>524288.000000</td>\n",
       "      <td>39.990000</td>\n",
       "    </tr>\n",
       "  </tbody>\n",
       "</table>\n",
       "</div>"
      ],
      "text/plain": [
       "         customer_id  average_monthly_basket_size\n",
       "count  249024.000000                249024.000000\n",
       "mean   327807.517231                    13.276089\n",
       "std    136434.276371                    12.007761\n",
       "min    131073.000000                     0.000000\n",
       "25%    196671.750000                     3.790000\n",
       "50%    393337.500000                     9.790000\n",
       "75%    458840.250000                    17.500000\n",
       "max    524288.000000                    39.990000"
      ]
     },
     "execution_count": 143,
     "metadata": {},
     "output_type": "execute_result"
    }
   ],
   "source": [
    "customer_data.describe()"
   ]
  },
  {
   "cell_type": "code",
   "execution_count": 144,
   "metadata": {},
   "outputs": [],
   "source": [
    "import matplotlib.pyplot as plt\n",
    "import seaborn as sns"
   ]
  },
  {
   "cell_type": "code",
   "execution_count": 145,
   "metadata": {},
   "outputs": [
    {
     "data": {
      "image/png": "[encoded data removed]",
      "text/plain": [
       "<Figure size 1000x600 with 1 Axes>"
      ]
     },
     "metadata": {},
     "output_type": "display_data"
    }
   ],
   "source": [
    "    # Visualize distributions\n",
    "plt.figure(figsize=(10, 6))\n",
    "sns.histplot(customer_data['average_monthly_spend'], bins=50, kde=True)\n",
    "plt.title('Monthly Spend Distribution')\n",
    "plt.xlabel('Monthly Spend')\n",
    "plt.ylabel('Frequency')\n",
    "plt.show()"
   ]
  },
  {
   "cell_type": "code",
   "execution_count": 146,
   "metadata": {},
   "outputs": [
    {
     "data": {
      "text/html": [
       "<div>\n",
       "<style scoped>\n",
       "    .dataframe tbody tr th:only-of-type {\n",
       "        vertical-align: middle;\n",
       "    }\n",
       "\n",
       "    .dataframe tbody tr th {\n",
       "        vertical-align: top;\n",
       "    }\n",
       "\n",
       "    .dataframe thead th {\n",
       "        text-align: right;\n",
       "    }\n",
       "</style>\n",
       "<table border=\"1\" class=\"dataframe\">\n",
       "  <thead>\n",
       "    <tr style=\"text-align: right;\">\n",
       "      <th></th>\n",
       "      <th>customer_id</th>\n",
       "      <th>average_monthly_spend</th>\n",
       "      <th>average_monthly_visit_frequency</th>\n",
       "      <th>average_monthly_basket_size</th>\n",
       "    </tr>\n",
       "  </thead>\n",
       "  <tbody>\n",
       "    <tr>\n",
       "      <th>131072</th>\n",
       "      <td>131073</td>\n",
       "      <td>80154.0</td>\n",
       "      <td>11.87</td>\n",
       "      <td>38.73</td>\n",
       "    </tr>\n",
       "    <tr>\n",
       "      <th>131073</th>\n",
       "      <td>131074</td>\n",
       "      <td>26665.0</td>\n",
       "      <td>7.2</td>\n",
       "      <td>9.03</td>\n",
       "    </tr>\n",
       "    <tr>\n",
       "      <th>131074</th>\n",
       "      <td>131075</td>\n",
       "      <td>103594.0</td>\n",
       "      <td>19.76</td>\n",
       "      <td>16.72</td>\n",
       "    </tr>\n",
       "    <tr>\n",
       "      <th>131075</th>\n",
       "      <td>131076</td>\n",
       "      <td>38838.0</td>\n",
       "      <td>6.29</td>\n",
       "      <td>9.65</td>\n",
       "    </tr>\n",
       "    <tr>\n",
       "      <th>131076</th>\n",
       "      <td>131077</td>\n",
       "      <td>721.0</td>\n",
       "      <td>2.06</td>\n",
       "      <td>1.80</td>\n",
       "    </tr>\n",
       "  </tbody>\n",
       "</table>\n",
       "</div>"
      ],
      "text/plain": [
       "        customer_id average_monthly_spend average_monthly_visit_frequency  \\\n",
       "131072       131073               80154.0                           11.87   \n",
       "131073       131074               26665.0                             7.2   \n",
       "131074       131075              103594.0                           19.76   \n",
       "131075       131076               38838.0                            6.29   \n",
       "131076       131077                 721.0                            2.06   \n",
       "\n",
       "        average_monthly_basket_size  \n",
       "131072                        38.73  \n",
       "131073                         9.03  \n",
       "131074                        16.72  \n",
       "131075                         9.65  \n",
       "131076                         1.80  "
      ]
     },
     "execution_count": 146,
     "metadata": {},
     "output_type": "execute_result"
    }
   ],
   "source": [
    "customer_data.head(5)"
   ]
  },
  {
   "cell_type": "code",
   "execution_count": 147,
   "metadata": {},
   "outputs": [],
   "source": [
    "# Feature scaling\n",
    "from sklearn.preprocessing import StandardScaler\n",
    "\n",
    "scaler = StandardScaler()\n",
    "scaled_features = scaler.fit_transform(customer_data[['average_monthly_spend', 'average_monthly_visit_frequency', 'average_monthly_basket_size']])\n",
    "customer_data[['average_monthly_spend', 'average_monthly_visit_frequency', 'average_monthly_basket_size']] = scaled_features\n",
    "\n",
    "# Derived metrics (if needed)\n",
    "# e.g., customer_data['spend_per_visit'] = customer_data['monthly_spend'] / customer_data['monthly_visit_frequency']\n"
   ]
  },
  {
   "cell_type": "code",
   "execution_count": 94,
   "metadata": {},
   "outputs": [
    {
     "name": "stdout",
     "output_type": "stream",
     "text": [
      "Silhouette Score: 0.748362944482383\n"
     ]
    }
   ],
   "source": [
    "# Model Selection (e.g., K-means clustering)\n",
    "from sklearn.cluster import KMeans\n",
    "\n",
    "kmeans = KMeans(n_clusters=5, random_state=42)\n",
    "customer_data['cluster'] = kmeans.fit_predict(customer_data[['average_monthly_spend', 'average_monthly_visit_frequency', 'average_monthly_basket_size']])\n",
    "\n",
    "# Evaluate clustering performance\n",
    "from sklearn.metrics import silhouette_score\n",
    "\n",
    "silhouette_score = silhouette_score(customer_data[['average_monthly_spend', 'average_monthly_visit_frequency', 'average_monthly_basket_size']], customer_data['cluster'])\n",
    "print(\"Silhouette Score:\", silhouette_score)\n"
   ]
  }
 ],
 "metadata": {
  "kernelspec": {
   "display_name": ".venv",
   "language": "python",
   "name": "python3"
  },
  "language_info": {
   "codemirror_mode": {
    "name": "ipython",
    "version": 3
   },
   "file_extension": ".py",
   "mimetype": "text/x-python",
   "name": "python",
   "nbconvert_exporter": "python",
   "pygments_lexer": "ipython3",
   "version": "3.12.2"
  }
 },
 "nbformat": 4,
 "nbformat_minor": 2
}
